{
 "cells": [
  {
   "cell_type": "code",
   "execution_count": 56,
   "metadata": {
    "collapsed": false
   },
   "outputs": [],
   "source": [
    "import pandas as pd\n",
    "import numpy as np\n",
    "\n",
    "import thinkstats2\n",
    "import thinkplot\n",
    "\n",
    "import statsmodels.formula.api as smf"
   ]
  },
  {
   "cell_type": "markdown",
   "metadata": {},
   "source": [
    "# Data"
   ]
  },
  {
   "cell_type": "markdown",
   "metadata": {},
   "source": []
  },
  {
   "cell_type": "code",
   "execution_count": 57,
   "metadata": {
    "collapsed": false
   },
   "outputs": [
    {
     "name": "stdout",
     "output_type": "stream",
     "text": [
      "(62466, 22)\n"
     ]
    },
    {
     "data": {
      "text/html": [
       "<div>\n",
       "<table border=\"1\" class=\"dataframe\">\n",
       "  <thead>\n",
       "    <tr style=\"text-align: right;\">\n",
       "      <th></th>\n",
       "      <th>year</th>\n",
       "      <th>partyid</th>\n",
       "      <th>vote12</th>\n",
       "      <th>relig</th>\n",
       "      <th>happy</th>\n",
       "      <th>health</th>\n",
       "      <th>trust</th>\n",
       "      <th>relpersn</th>\n",
       "      <th>wwwhr</th>\n",
       "      <th>ballot</th>\n",
       "      <th>...</th>\n",
       "      <th>id_</th>\n",
       "      <th>wrkstat</th>\n",
       "      <th>hrs2</th>\n",
       "      <th>wrkgovt</th>\n",
       "      <th>industry</th>\n",
       "      <th>age</th>\n",
       "      <th>educ</th>\n",
       "      <th>sex</th>\n",
       "      <th>race</th>\n",
       "      <th>sei10</th>\n",
       "    </tr>\n",
       "  </thead>\n",
       "  <tbody>\n",
       "    <tr>\n",
       "      <th>0</th>\n",
       "      <td>1972</td>\n",
       "      <td>2</td>\n",
       "      <td>0</td>\n",
       "      <td>3</td>\n",
       "      <td>3</td>\n",
       "      <td>2</td>\n",
       "      <td>3</td>\n",
       "      <td>0</td>\n",
       "      <td>-1</td>\n",
       "      <td>0</td>\n",
       "      <td>...</td>\n",
       "      <td>1</td>\n",
       "      <td>1</td>\n",
       "      <td>-1</td>\n",
       "      <td>0</td>\n",
       "      <td>609</td>\n",
       "      <td>23</td>\n",
       "      <td>16</td>\n",
       "      <td>2</td>\n",
       "      <td>1</td>\n",
       "      <td>50.0</td>\n",
       "    </tr>\n",
       "    <tr>\n",
       "      <th>1</th>\n",
       "      <td>1972</td>\n",
       "      <td>1</td>\n",
       "      <td>0</td>\n",
       "      <td>2</td>\n",
       "      <td>3</td>\n",
       "      <td>3</td>\n",
       "      <td>1</td>\n",
       "      <td>0</td>\n",
       "      <td>-1</td>\n",
       "      <td>0</td>\n",
       "      <td>...</td>\n",
       "      <td>2</td>\n",
       "      <td>5</td>\n",
       "      <td>-1</td>\n",
       "      <td>0</td>\n",
       "      <td>338</td>\n",
       "      <td>70</td>\n",
       "      <td>10</td>\n",
       "      <td>1</td>\n",
       "      <td>1</td>\n",
       "      <td>46.5</td>\n",
       "    </tr>\n",
       "    <tr>\n",
       "      <th>2</th>\n",
       "      <td>1972</td>\n",
       "      <td>3</td>\n",
       "      <td>0</td>\n",
       "      <td>1</td>\n",
       "      <td>2</td>\n",
       "      <td>1</td>\n",
       "      <td>2</td>\n",
       "      <td>0</td>\n",
       "      <td>-1</td>\n",
       "      <td>0</td>\n",
       "      <td>...</td>\n",
       "      <td>3</td>\n",
       "      <td>2</td>\n",
       "      <td>-1</td>\n",
       "      <td>0</td>\n",
       "      <td>718</td>\n",
       "      <td>48</td>\n",
       "      <td>12</td>\n",
       "      <td>2</td>\n",
       "      <td>1</td>\n",
       "      <td>56.9</td>\n",
       "    </tr>\n",
       "    <tr>\n",
       "      <th>3</th>\n",
       "      <td>1972</td>\n",
       "      <td>1</td>\n",
       "      <td>0</td>\n",
       "      <td>5</td>\n",
       "      <td>3</td>\n",
       "      <td>2</td>\n",
       "      <td>2</td>\n",
       "      <td>0</td>\n",
       "      <td>-1</td>\n",
       "      <td>0</td>\n",
       "      <td>...</td>\n",
       "      <td>4</td>\n",
       "      <td>1</td>\n",
       "      <td>-1</td>\n",
       "      <td>0</td>\n",
       "      <td>319</td>\n",
       "      <td>27</td>\n",
       "      <td>17</td>\n",
       "      <td>2</td>\n",
       "      <td>1</td>\n",
       "      <td>76.3</td>\n",
       "    </tr>\n",
       "    <tr>\n",
       "      <th>4</th>\n",
       "      <td>1972</td>\n",
       "      <td>0</td>\n",
       "      <td>0</td>\n",
       "      <td>1</td>\n",
       "      <td>2</td>\n",
       "      <td>2</td>\n",
       "      <td>2</td>\n",
       "      <td>0</td>\n",
       "      <td>-1</td>\n",
       "      <td>0</td>\n",
       "      <td>...</td>\n",
       "      <td>5</td>\n",
       "      <td>7</td>\n",
       "      <td>-1</td>\n",
       "      <td>0</td>\n",
       "      <td>448</td>\n",
       "      <td>61</td>\n",
       "      <td>12</td>\n",
       "      <td>2</td>\n",
       "      <td>1</td>\n",
       "      <td>31.9</td>\n",
       "    </tr>\n",
       "  </tbody>\n",
       "</table>\n",
       "<p>5 rows × 22 columns</p>\n",
       "</div>"
      ],
      "text/plain": [
       "   year  partyid  vote12  relig  happy  health  trust  relpersn  wwwhr  \\\n",
       "0  1972        2       0      3      3       2      3         0     -1   \n",
       "1  1972        1       0      2      3       3      1         0     -1   \n",
       "2  1972        3       0      1      2       1      2         0     -1   \n",
       "3  1972        1       0      5      3       2      2         0     -1   \n",
       "4  1972        0       0      1      2       2      2         0     -1   \n",
       "\n",
       "   ballot  ...    id_  wrkstat  hrs2  wrkgovt  industry  age  educ  sex  race  \\\n",
       "0       0  ...      1        1    -1        0       609   23    16    2     1   \n",
       "1       0  ...      2        5    -1        0       338   70    10    1     1   \n",
       "2       0  ...      3        2    -1        0       718   48    12    2     1   \n",
       "3       0  ...      4        1    -1        0       319   27    17    2     1   \n",
       "4       0  ...      5        7    -1        0       448   61    12    2     1   \n",
       "\n",
       "   sei10  \n",
       "0   50.0  \n",
       "1   46.5  \n",
       "2   56.9  \n",
       "3   76.3  \n",
       "4   31.9  \n",
       "\n",
       "[5 rows x 22 columns]"
      ]
     },
     "execution_count": 57,
     "metadata": {},
     "output_type": "execute_result"
    }
   ],
   "source": [
    "dct = thinkstats2.ReadStataDct('./Who_Votes_2/GSS.dct')\n",
    "df = dct.ReadFixedWidth('./Who_Votes_2/GSS.dat')\n",
    "print(df.shape)\n",
    "df.head()"
   ]
  },
  {
   "cell_type": "markdown",
   "metadata": {},
   "source": [
    "For now, we are only interested in people who voted in 2012, the year that we will be investigating."
   ]
  },
  {
   "cell_type": "code",
   "execution_count": 58,
   "metadata": {
    "collapsed": false
   },
   "outputs": [
    {
     "data": {
      "text/plain": [
       "(5405, 22)"
      ]
     },
     "execution_count": 58,
     "metadata": {},
     "output_type": "execute_result"
    }
   ],
   "source": [
    "df2012 = df[df.vote12 != 0].copy()\n",
    "#Copying the slice makes it possible to add values\n",
    "df2012.shape"
   ]
  },
  {
   "cell_type": "code",
   "execution_count": 59,
   "metadata": {
    "collapsed": false,
    "scrolled": true
   },
   "outputs": [
    {
     "name": "stdout",
     "output_type": "stream",
     "text": [
      "(5405, 22)\n"
     ]
    },
    {
     "data": {
      "text/html": [
       "<div>\n",
       "<table border=\"1\" class=\"dataframe\">\n",
       "  <thead>\n",
       "    <tr style=\"text-align: right;\">\n",
       "      <th></th>\n",
       "      <th>year</th>\n",
       "      <th>partyid</th>\n",
       "      <th>vote12</th>\n",
       "      <th>relig</th>\n",
       "      <th>happy</th>\n",
       "      <th>health</th>\n",
       "      <th>trust</th>\n",
       "      <th>relpersn</th>\n",
       "      <th>wwwhr</th>\n",
       "      <th>ballot</th>\n",
       "      <th>...</th>\n",
       "      <th>id_</th>\n",
       "      <th>wrkstat</th>\n",
       "      <th>hrs2</th>\n",
       "      <th>wrkgovt</th>\n",
       "      <th>industry</th>\n",
       "      <th>age</th>\n",
       "      <th>educ</th>\n",
       "      <th>sex</th>\n",
       "      <th>race</th>\n",
       "      <th>sei10</th>\n",
       "    </tr>\n",
       "  </thead>\n",
       "  <tbody>\n",
       "    <tr>\n",
       "      <th>57061</th>\n",
       "      <td>2014</td>\n",
       "      <td>5</td>\n",
       "      <td>2</td>\n",
       "      <td>2</td>\n",
       "      <td>1</td>\n",
       "      <td>1</td>\n",
       "      <td>2</td>\n",
       "      <td>4</td>\n",
       "      <td>-1</td>\n",
       "      <td>3</td>\n",
       "      <td>...</td>\n",
       "      <td>1</td>\n",
       "      <td>1</td>\n",
       "      <td>-1</td>\n",
       "      <td>2</td>\n",
       "      <td>0</td>\n",
       "      <td>53</td>\n",
       "      <td>16</td>\n",
       "      <td>1</td>\n",
       "      <td>1</td>\n",
       "      <td>59.1</td>\n",
       "    </tr>\n",
       "    <tr>\n",
       "      <th>57062</th>\n",
       "      <td>2014</td>\n",
       "      <td>5</td>\n",
       "      <td>1</td>\n",
       "      <td>2</td>\n",
       "      <td>1</td>\n",
       "      <td>1</td>\n",
       "      <td>1</td>\n",
       "      <td>1</td>\n",
       "      <td>-1</td>\n",
       "      <td>3</td>\n",
       "      <td>...</td>\n",
       "      <td>2</td>\n",
       "      <td>1</td>\n",
       "      <td>-1</td>\n",
       "      <td>2</td>\n",
       "      <td>0</td>\n",
       "      <td>26</td>\n",
       "      <td>16</td>\n",
       "      <td>2</td>\n",
       "      <td>1</td>\n",
       "      <td>61.9</td>\n",
       "    </tr>\n",
       "    <tr>\n",
       "      <th>57063</th>\n",
       "      <td>2014</td>\n",
       "      <td>6</td>\n",
       "      <td>1</td>\n",
       "      <td>1</td>\n",
       "      <td>3</td>\n",
       "      <td>2</td>\n",
       "      <td>0</td>\n",
       "      <td>2</td>\n",
       "      <td>-1</td>\n",
       "      <td>1</td>\n",
       "      <td>...</td>\n",
       "      <td>3</td>\n",
       "      <td>4</td>\n",
       "      <td>-1</td>\n",
       "      <td>2</td>\n",
       "      <td>0</td>\n",
       "      <td>59</td>\n",
       "      <td>13</td>\n",
       "      <td>1</td>\n",
       "      <td>1</td>\n",
       "      <td>38.1</td>\n",
       "    </tr>\n",
       "    <tr>\n",
       "      <th>57064</th>\n",
       "      <td>2014</td>\n",
       "      <td>5</td>\n",
       "      <td>1</td>\n",
       "      <td>2</td>\n",
       "      <td>1</td>\n",
       "      <td>0</td>\n",
       "      <td>1</td>\n",
       "      <td>2</td>\n",
       "      <td>2</td>\n",
       "      <td>2</td>\n",
       "      <td>...</td>\n",
       "      <td>4</td>\n",
       "      <td>2</td>\n",
       "      <td>-1</td>\n",
       "      <td>2</td>\n",
       "      <td>0</td>\n",
       "      <td>56</td>\n",
       "      <td>16</td>\n",
       "      <td>2</td>\n",
       "      <td>1</td>\n",
       "      <td>73.9</td>\n",
       "    </tr>\n",
       "    <tr>\n",
       "      <th>57065</th>\n",
       "      <td>2014</td>\n",
       "      <td>3</td>\n",
       "      <td>1</td>\n",
       "      <td>2</td>\n",
       "      <td>1</td>\n",
       "      <td>1</td>\n",
       "      <td>2</td>\n",
       "      <td>2</td>\n",
       "      <td>-1</td>\n",
       "      <td>3</td>\n",
       "      <td>...</td>\n",
       "      <td>5</td>\n",
       "      <td>5</td>\n",
       "      <td>-1</td>\n",
       "      <td>1</td>\n",
       "      <td>0</td>\n",
       "      <td>74</td>\n",
       "      <td>17</td>\n",
       "      <td>2</td>\n",
       "      <td>1</td>\n",
       "      <td>76.3</td>\n",
       "    </tr>\n",
       "  </tbody>\n",
       "</table>\n",
       "<p>5 rows × 22 columns</p>\n",
       "</div>"
      ],
      "text/plain": [
       "       year  partyid  vote12  relig  happy  health  trust  relpersn  wwwhr  \\\n",
       "57061  2014        5       2      2      1       1      2         4     -1   \n",
       "57062  2014        5       1      2      1       1      1         1     -1   \n",
       "57063  2014        6       1      1      3       2      0         2     -1   \n",
       "57064  2014        5       1      2      1       0      1         2      2   \n",
       "57065  2014        3       1      2      1       1      2         2     -1   \n",
       "\n",
       "       ballot  ...    id_  wrkstat  hrs2  wrkgovt  industry  age  educ  sex  \\\n",
       "57061       3  ...      1        1    -1        2         0   53    16    1   \n",
       "57062       3  ...      2        1    -1        2         0   26    16    2   \n",
       "57063       1  ...      3        4    -1        2         0   59    13    1   \n",
       "57064       2  ...      4        2    -1        2         0   56    16    2   \n",
       "57065       3  ...      5        5    -1        1         0   74    17    2   \n",
       "\n",
       "       race  sei10  \n",
       "57061     1   59.1  \n",
       "57062     1   61.9  \n",
       "57063     1   38.1  \n",
       "57064     1   73.9  \n",
       "57065     1   76.3  \n",
       "\n",
       "[5 rows x 22 columns]"
      ]
     },
     "execution_count": 59,
     "metadata": {},
     "output_type": "execute_result"
    }
   ],
   "source": [
    "print(df2012.shape)\n",
    "df2012.head()"
   ]
  },
  {
   "cell_type": "markdown",
   "metadata": {},
   "source": [
    "The following helper functions were borrowed from [Allen Downey](https://github.com/AllenDowney/GssReligion), as part of a different exploration of the GSS dataset."
   ]
  },
  {
   "cell_type": "code",
   "execution_count": 60,
   "metadata": {
    "collapsed": true
   },
   "outputs": [],
   "source": [
    "#This function renames a convenient feature of pandas\n",
    "#It makes it easy to identify strange, outlier values\n",
    "def values(df, varname):\n",
    "    \"\"\"Values and counts in index order.\n",
    "    \n",
    "    df: DataFrame\n",
    "    varname: strign column name\n",
    "    \n",
    "    returns: Series that maps from value to frequency\n",
    "    \"\"\"\n",
    "    return df[varname].value_counts().sort_index()\n",
    "\n",
    "#This fixes the problems you can find with the previous one.\n",
    "def fill_missing(df, varname, badvals=[98, 99]):\n",
    "    \"\"\"Fill missing data with random values.\n",
    "    \n",
    "    df: DataFrame\n",
    "    varname: string column name\n",
    "    badvals: list of values to be replaced\n",
    "    \"\"\"\n",
    "    df[varname].replace(badvals, np.nan, inplace=True)\n",
    "    null = df[varname].isnull()\n",
    "    fill = np.random.choice(df[varname].dropna(), sum(null), replace=True)\n",
    "    df.loc[null, varname] = fill\n",
    "    return sum(null)"
   ]
  },
  {
   "cell_type": "markdown",
   "metadata": {
    "collapsed": true
   },
   "source": [
    "# Who votes?"
   ]
  },
  {
   "cell_type": "code",
   "execution_count": 61,
   "metadata": {
    "collapsed": false
   },
   "outputs": [
    {
     "data": {
      "text/plain": [
       "1     2496\n",
       "2     1255\n",
       "3       91\n",
       "4     1141\n",
       "5       71\n",
       "6       47\n",
       "7       26\n",
       "8        7\n",
       "9       28\n",
       "10      16\n",
       "11     174\n",
       "12       6\n",
       "13      11\n",
       "98       6\n",
       "99      30\n",
       "Name: relig, dtype: int64"
      ]
     },
     "execution_count": 61,
     "metadata": {},
     "output_type": "execute_result"
    }
   ],
   "source": [
    "values(df2012, \"relig\")"
   ]
  },
  {
   "cell_type": "markdown",
   "metadata": {
    "collapsed": false
   },
   "source": [
    "The values with a signifigant amount of data are 1, 2, and 4, which are Protestant, Catholic, and None, respectively. We can lump the others in under \"other\""
   ]
  },
  {
   "cell_type": "code",
   "execution_count": 62,
   "metadata": {
    "collapsed": false
   },
   "outputs": [],
   "source": [
    "df2012['isProtestant'] = (df2012.relig == 1).astype(int)\n",
    "df2012['isCatholic'] = (df2012.relig == 2).astype(int)\n",
    "df2012['isNone'] = (df2012.relig == 4).astype(int)"
   ]
  },
  {
   "cell_type": "code",
   "execution_count": null,
   "metadata": {
    "collapsed": true
   },
   "outputs": [],
   "source": []
  }
 ],
 "metadata": {
  "kernelspec": {
   "display_name": "Python 2",
   "language": "python",
   "name": "python2"
  },
  "language_info": {
   "codemirror_mode": {
    "name": "ipython",
    "version": 2
   },
   "file_extension": ".py",
   "mimetype": "text/x-python",
   "name": "python",
   "nbconvert_exporter": "python",
   "pygments_lexer": "ipython2",
   "version": "2.7.12"
  }
 },
 "nbformat": 4,
 "nbformat_minor": 2
}
