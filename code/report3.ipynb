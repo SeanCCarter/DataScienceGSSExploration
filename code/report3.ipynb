{
 "cells": [
  {
   "cell_type": "code",
   "execution_count": 280,
   "metadata": {
    "collapsed": false
   },
   "outputs": [],
   "source": [
    "import pandas as pd\n",
    "import numpy as np\n",
    "\n",
    "import thinkstats2\n",
    "import thinkplot\n",
    "\n",
    "import statsmodels.formula.api as smf"
   ]
  },
  {
   "cell_type": "markdown",
   "metadata": {},
   "source": [
    "# Data"
   ]
  },
  {
   "cell_type": "markdown",
   "metadata": {},
   "source": []
  },
  {
   "cell_type": "code",
   "execution_count": 281,
   "metadata": {
    "collapsed": false
   },
   "outputs": [
    {
     "name": "stdout",
     "output_type": "stream",
     "text": [
      "(62466, 22)\n"
     ]
    },
    {
     "data": {
      "text/html": [
       "<div>\n",
       "<table border=\"1\" class=\"dataframe\">\n",
       "  <thead>\n",
       "    <tr style=\"text-align: right;\">\n",
       "      <th></th>\n",
       "      <th>year</th>\n",
       "      <th>partyid</th>\n",
       "      <th>vote12</th>\n",
       "      <th>relig</th>\n",
       "      <th>happy</th>\n",
       "      <th>health</th>\n",
       "      <th>trust</th>\n",
       "      <th>relpersn</th>\n",
       "      <th>wwwhr</th>\n",
       "      <th>ballot</th>\n",
       "      <th>...</th>\n",
       "      <th>id_</th>\n",
       "      <th>wrkstat</th>\n",
       "      <th>hrs2</th>\n",
       "      <th>wrkgovt</th>\n",
       "      <th>industry</th>\n",
       "      <th>age</th>\n",
       "      <th>educ</th>\n",
       "      <th>sex</th>\n",
       "      <th>race</th>\n",
       "      <th>sei10</th>\n",
       "    </tr>\n",
       "  </thead>\n",
       "  <tbody>\n",
       "    <tr>\n",
       "      <th>0</th>\n",
       "      <td>1972</td>\n",
       "      <td>2</td>\n",
       "      <td>0</td>\n",
       "      <td>3</td>\n",
       "      <td>3</td>\n",
       "      <td>2</td>\n",
       "      <td>3</td>\n",
       "      <td>0</td>\n",
       "      <td>-1</td>\n",
       "      <td>0</td>\n",
       "      <td>...</td>\n",
       "      <td>1</td>\n",
       "      <td>1</td>\n",
       "      <td>-1</td>\n",
       "      <td>0</td>\n",
       "      <td>609</td>\n",
       "      <td>23</td>\n",
       "      <td>16</td>\n",
       "      <td>2</td>\n",
       "      <td>1</td>\n",
       "      <td>50.0</td>\n",
       "    </tr>\n",
       "    <tr>\n",
       "      <th>1</th>\n",
       "      <td>1972</td>\n",
       "      <td>1</td>\n",
       "      <td>0</td>\n",
       "      <td>2</td>\n",
       "      <td>3</td>\n",
       "      <td>3</td>\n",
       "      <td>1</td>\n",
       "      <td>0</td>\n",
       "      <td>-1</td>\n",
       "      <td>0</td>\n",
       "      <td>...</td>\n",
       "      <td>2</td>\n",
       "      <td>5</td>\n",
       "      <td>-1</td>\n",
       "      <td>0</td>\n",
       "      <td>338</td>\n",
       "      <td>70</td>\n",
       "      <td>10</td>\n",
       "      <td>1</td>\n",
       "      <td>1</td>\n",
       "      <td>46.5</td>\n",
       "    </tr>\n",
       "    <tr>\n",
       "      <th>2</th>\n",
       "      <td>1972</td>\n",
       "      <td>3</td>\n",
       "      <td>0</td>\n",
       "      <td>1</td>\n",
       "      <td>2</td>\n",
       "      <td>1</td>\n",
       "      <td>2</td>\n",
       "      <td>0</td>\n",
       "      <td>-1</td>\n",
       "      <td>0</td>\n",
       "      <td>...</td>\n",
       "      <td>3</td>\n",
       "      <td>2</td>\n",
       "      <td>-1</td>\n",
       "      <td>0</td>\n",
       "      <td>718</td>\n",
       "      <td>48</td>\n",
       "      <td>12</td>\n",
       "      <td>2</td>\n",
       "      <td>1</td>\n",
       "      <td>56.9</td>\n",
       "    </tr>\n",
       "    <tr>\n",
       "      <th>3</th>\n",
       "      <td>1972</td>\n",
       "      <td>1</td>\n",
       "      <td>0</td>\n",
       "      <td>5</td>\n",
       "      <td>3</td>\n",
       "      <td>2</td>\n",
       "      <td>2</td>\n",
       "      <td>0</td>\n",
       "      <td>-1</td>\n",
       "      <td>0</td>\n",
       "      <td>...</td>\n",
       "      <td>4</td>\n",
       "      <td>1</td>\n",
       "      <td>-1</td>\n",
       "      <td>0</td>\n",
       "      <td>319</td>\n",
       "      <td>27</td>\n",
       "      <td>17</td>\n",
       "      <td>2</td>\n",
       "      <td>1</td>\n",
       "      <td>76.3</td>\n",
       "    </tr>\n",
       "    <tr>\n",
       "      <th>4</th>\n",
       "      <td>1972</td>\n",
       "      <td>0</td>\n",
       "      <td>0</td>\n",
       "      <td>1</td>\n",
       "      <td>2</td>\n",
       "      <td>2</td>\n",
       "      <td>2</td>\n",
       "      <td>0</td>\n",
       "      <td>-1</td>\n",
       "      <td>0</td>\n",
       "      <td>...</td>\n",
       "      <td>5</td>\n",
       "      <td>7</td>\n",
       "      <td>-1</td>\n",
       "      <td>0</td>\n",
       "      <td>448</td>\n",
       "      <td>61</td>\n",
       "      <td>12</td>\n",
       "      <td>2</td>\n",
       "      <td>1</td>\n",
       "      <td>31.9</td>\n",
       "    </tr>\n",
       "  </tbody>\n",
       "</table>\n",
       "<p>5 rows × 22 columns</p>\n",
       "</div>"
      ],
      "text/plain": [
       "   year  partyid  vote12  relig  happy  health  trust  relpersn  wwwhr  \\\n",
       "0  1972        2       0      3      3       2      3         0     -1   \n",
       "1  1972        1       0      2      3       3      1         0     -1   \n",
       "2  1972        3       0      1      2       1      2         0     -1   \n",
       "3  1972        1       0      5      3       2      2         0     -1   \n",
       "4  1972        0       0      1      2       2      2         0     -1   \n",
       "\n",
       "   ballot  ...    id_  wrkstat  hrs2  wrkgovt  industry  age  educ  sex  race  \\\n",
       "0       0  ...      1        1    -1        0       609   23    16    2     1   \n",
       "1       0  ...      2        5    -1        0       338   70    10    1     1   \n",
       "2       0  ...      3        2    -1        0       718   48    12    2     1   \n",
       "3       0  ...      4        1    -1        0       319   27    17    2     1   \n",
       "4       0  ...      5        7    -1        0       448   61    12    2     1   \n",
       "\n",
       "   sei10  \n",
       "0   50.0  \n",
       "1   46.5  \n",
       "2   56.9  \n",
       "3   76.3  \n",
       "4   31.9  \n",
       "\n",
       "[5 rows x 22 columns]"
      ]
     },
     "execution_count": 281,
     "metadata": {},
     "output_type": "execute_result"
    }
   ],
   "source": [
    "dct = thinkstats2.ReadStataDct('./Who_Votes_2/GSS.dct')\n",
    "df = dct.ReadFixedWidth('./Who_Votes_2/GSS.dat')\n",
    "print(df.shape)\n",
    "df.head()"
   ]
  },
  {
   "cell_type": "markdown",
   "metadata": {},
   "source": [
    "For now, we are only interested in people who voted in 2012, the year that we will be investigating."
   ]
  },
  {
   "cell_type": "code",
   "execution_count": 282,
   "metadata": {
    "collapsed": false
   },
   "outputs": [
    {
     "data": {
      "text/plain": [
       "(4983, 22)"
      ]
     },
     "execution_count": 282,
     "metadata": {},
     "output_type": "execute_result"
    }
   ],
   "source": [
    "df2012 = df[(df.vote12==2) | (df.vote12==1)].copy()\n",
    "#Copying the slice makes it possible to add values\n",
    "df2012.shape"
   ]
  },
  {
   "cell_type": "code",
   "execution_count": 283,
   "metadata": {
    "collapsed": false,
    "scrolled": true
   },
   "outputs": [
    {
     "name": "stdout",
     "output_type": "stream",
     "text": [
      "(4983, 22)\n"
     ]
    },
    {
     "data": {
      "text/html": [
       "<div>\n",
       "<table border=\"1\" class=\"dataframe\">\n",
       "  <thead>\n",
       "    <tr style=\"text-align: right;\">\n",
       "      <th></th>\n",
       "      <th>year</th>\n",
       "      <th>partyid</th>\n",
       "      <th>vote12</th>\n",
       "      <th>relig</th>\n",
       "      <th>happy</th>\n",
       "      <th>health</th>\n",
       "      <th>trust</th>\n",
       "      <th>relpersn</th>\n",
       "      <th>wwwhr</th>\n",
       "      <th>ballot</th>\n",
       "      <th>...</th>\n",
       "      <th>id_</th>\n",
       "      <th>wrkstat</th>\n",
       "      <th>hrs2</th>\n",
       "      <th>wrkgovt</th>\n",
       "      <th>industry</th>\n",
       "      <th>age</th>\n",
       "      <th>educ</th>\n",
       "      <th>sex</th>\n",
       "      <th>race</th>\n",
       "      <th>sei10</th>\n",
       "    </tr>\n",
       "  </thead>\n",
       "  <tbody>\n",
       "    <tr>\n",
       "      <th>57061</th>\n",
       "      <td>2014</td>\n",
       "      <td>5</td>\n",
       "      <td>0</td>\n",
       "      <td>2</td>\n",
       "      <td>1</td>\n",
       "      <td>1</td>\n",
       "      <td>2</td>\n",
       "      <td>4</td>\n",
       "      <td>-1</td>\n",
       "      <td>3</td>\n",
       "      <td>...</td>\n",
       "      <td>1</td>\n",
       "      <td>1</td>\n",
       "      <td>-1</td>\n",
       "      <td>2</td>\n",
       "      <td>0</td>\n",
       "      <td>53</td>\n",
       "      <td>16</td>\n",
       "      <td>1</td>\n",
       "      <td>1</td>\n",
       "      <td>59.1</td>\n",
       "    </tr>\n",
       "    <tr>\n",
       "      <th>57062</th>\n",
       "      <td>2014</td>\n",
       "      <td>5</td>\n",
       "      <td>1</td>\n",
       "      <td>2</td>\n",
       "      <td>1</td>\n",
       "      <td>1</td>\n",
       "      <td>1</td>\n",
       "      <td>1</td>\n",
       "      <td>-1</td>\n",
       "      <td>3</td>\n",
       "      <td>...</td>\n",
       "      <td>2</td>\n",
       "      <td>1</td>\n",
       "      <td>-1</td>\n",
       "      <td>2</td>\n",
       "      <td>0</td>\n",
       "      <td>26</td>\n",
       "      <td>16</td>\n",
       "      <td>2</td>\n",
       "      <td>1</td>\n",
       "      <td>61.9</td>\n",
       "    </tr>\n",
       "    <tr>\n",
       "      <th>57063</th>\n",
       "      <td>2014</td>\n",
       "      <td>6</td>\n",
       "      <td>1</td>\n",
       "      <td>1</td>\n",
       "      <td>3</td>\n",
       "      <td>2</td>\n",
       "      <td>0</td>\n",
       "      <td>2</td>\n",
       "      <td>-1</td>\n",
       "      <td>1</td>\n",
       "      <td>...</td>\n",
       "      <td>3</td>\n",
       "      <td>4</td>\n",
       "      <td>-1</td>\n",
       "      <td>2</td>\n",
       "      <td>0</td>\n",
       "      <td>59</td>\n",
       "      <td>13</td>\n",
       "      <td>1</td>\n",
       "      <td>1</td>\n",
       "      <td>38.1</td>\n",
       "    </tr>\n",
       "    <tr>\n",
       "      <th>57064</th>\n",
       "      <td>2014</td>\n",
       "      <td>5</td>\n",
       "      <td>1</td>\n",
       "      <td>2</td>\n",
       "      <td>1</td>\n",
       "      <td>0</td>\n",
       "      <td>1</td>\n",
       "      <td>2</td>\n",
       "      <td>2</td>\n",
       "      <td>2</td>\n",
       "      <td>...</td>\n",
       "      <td>4</td>\n",
       "      <td>2</td>\n",
       "      <td>-1</td>\n",
       "      <td>2</td>\n",
       "      <td>0</td>\n",
       "      <td>56</td>\n",
       "      <td>16</td>\n",
       "      <td>2</td>\n",
       "      <td>1</td>\n",
       "      <td>73.9</td>\n",
       "    </tr>\n",
       "    <tr>\n",
       "      <th>57065</th>\n",
       "      <td>2014</td>\n",
       "      <td>3</td>\n",
       "      <td>1</td>\n",
       "      <td>2</td>\n",
       "      <td>1</td>\n",
       "      <td>1</td>\n",
       "      <td>2</td>\n",
       "      <td>2</td>\n",
       "      <td>-1</td>\n",
       "      <td>3</td>\n",
       "      <td>...</td>\n",
       "      <td>5</td>\n",
       "      <td>5</td>\n",
       "      <td>-1</td>\n",
       "      <td>1</td>\n",
       "      <td>0</td>\n",
       "      <td>74</td>\n",
       "      <td>17</td>\n",
       "      <td>2</td>\n",
       "      <td>1</td>\n",
       "      <td>76.3</td>\n",
       "    </tr>\n",
       "  </tbody>\n",
       "</table>\n",
       "<p>5 rows × 22 columns</p>\n",
       "</div>"
      ],
      "text/plain": [
       "       year  partyid  vote12  relig  happy  health  trust  relpersn  wwwhr  \\\n",
       "57061  2014        5       0      2      1       1      2         4     -1   \n",
       "57062  2014        5       1      2      1       1      1         1     -1   \n",
       "57063  2014        6       1      1      3       2      0         2     -1   \n",
       "57064  2014        5       1      2      1       0      1         2      2   \n",
       "57065  2014        3       1      2      1       1      2         2     -1   \n",
       "\n",
       "       ballot  ...    id_  wrkstat  hrs2  wrkgovt  industry  age  educ  sex  \\\n",
       "57061       3  ...      1        1    -1        2         0   53    16    1   \n",
       "57062       3  ...      2        1    -1        2         0   26    16    2   \n",
       "57063       1  ...      3        4    -1        2         0   59    13    1   \n",
       "57064       2  ...      4        2    -1        2         0   56    16    2   \n",
       "57065       3  ...      5        5    -1        1         0   74    17    2   \n",
       "\n",
       "       race  sei10  \n",
       "57061     1   59.1  \n",
       "57062     1   61.9  \n",
       "57063     1   38.1  \n",
       "57064     1   73.9  \n",
       "57065     1   76.3  \n",
       "\n",
       "[5 rows x 22 columns]"
      ]
     },
     "execution_count": 283,
     "metadata": {},
     "output_type": "execute_result"
    }
   ],
   "source": [
    "#I want vote2012 to be 0 false, 1 true: right now 2 is false. So...\n",
    "df2012.vote12 = df.vote12%2\n",
    "\n",
    "print(df2012.shape)\n",
    "df2012.head()"
   ]
  },
  {
   "cell_type": "markdown",
   "metadata": {},
   "source": [
    "The following helper functions were borrowed from [Allen Downey](https://github.com/AllenDowney/GssReligion), as part of a different exploration of the GSS dataset."
   ]
  },
  {
   "cell_type": "code",
   "execution_count": 284,
   "metadata": {
    "collapsed": true
   },
   "outputs": [],
   "source": [
    "#This function renames a convenient feature of pandas\n",
    "#It makes it easy to identify strange, outlier values\n",
    "def values(df, varname):\n",
    "    \"\"\"Values and counts in index order.\n",
    "    \n",
    "    df: DataFrame\n",
    "    varname: strign column name\n",
    "    \n",
    "    returns: Series that maps from value to frequency\n",
    "    \"\"\"\n",
    "    return df[varname].value_counts().sort_index()\n",
    "\n",
    "#This fixes the problems you can find with the previous one.\n",
    "def fill_missing(df, varname, badvals=[98, 99]):\n",
    "    \"\"\"Fill missing data with random values.\n",
    "    \n",
    "    df: DataFrame\n",
    "    varname: string column name\n",
    "    badvals: list of values to be replaced\n",
    "    \"\"\"\n",
    "    df[varname].replace(badvals, np.nan, inplace=True)\n",
    "    null = df[varname].isnull()\n",
    "    fill = np.random.choice(df[varname].dropna(), sum(null), replace=True)\n",
    "    df.loc[null, varname] = fill\n",
    "    return sum(null)"
   ]
  },
  {
   "cell_type": "markdown",
   "metadata": {
    "collapsed": true
   },
   "source": [
    "# Who votes?\n",
    "\n",
    "The first variable to investigate is age - it's a very simple predictor, but known to be excellent at predicting patterns. To quantify that, we can build a simple logistic regression formula based on age"
   ]
  },
  {
   "cell_type": "code",
   "execution_count": 285,
   "metadata": {
    "collapsed": false
   },
   "outputs": [
    {
     "data": {
      "text/plain": [
       "20     16\n",
       "21     24\n",
       "22     55\n",
       "23     69\n",
       "24     62\n",
       "25     98\n",
       "26     82\n",
       "27     92\n",
       "28     67\n",
       "29     96\n",
       "30    105\n",
       "31    100\n",
       "32     90\n",
       "33     94\n",
       "34     87\n",
       "35     92\n",
       "36     89\n",
       "37    102\n",
       "38     85\n",
       "39     89\n",
       "40     83\n",
       "41     84\n",
       "42     80\n",
       "43     93\n",
       "44     87\n",
       "45     62\n",
       "46     75\n",
       "47     90\n",
       "48     77\n",
       "49     77\n",
       "     ... \n",
       "61     93\n",
       "62     98\n",
       "63     82\n",
       "64     70\n",
       "65     80\n",
       "66     80\n",
       "67     90\n",
       "68     63\n",
       "69     65\n",
       "70     63\n",
       "71     54\n",
       "72     46\n",
       "73     44\n",
       "74     48\n",
       "75     39\n",
       "76     49\n",
       "77     36\n",
       "78     52\n",
       "79     46\n",
       "80     41\n",
       "81     33\n",
       "82     18\n",
       "83     32\n",
       "84     21\n",
       "85     17\n",
       "86     19\n",
       "87     16\n",
       "88     14\n",
       "89     39\n",
       "99     17\n",
       "Name: age, dtype: int64"
      ]
     },
     "execution_count": 285,
     "metadata": {},
     "output_type": "execute_result"
    }
   ],
   "source": [
    "values(df2012, \"age\")"
   ]
  },
  {
   "cell_type": "markdown",
   "metadata": {},
   "source": [
    "Under the assumption that there *probably* weren't 17 different 99 year olds in this one relatively small sample (5405 people), we can clean the data by replacing those with random values in the cleaning function"
   ]
  },
  {
   "cell_type": "code",
   "execution_count": 286,
   "metadata": {
    "collapsed": false
   },
   "outputs": [
    {
     "data": {
      "text/plain": [
       "17"
      ]
     },
     "execution_count": 286,
     "metadata": {},
     "output_type": "execute_result"
    }
   ],
   "source": [
    "fill_missing(df2012, 'age')"
   ]
  },
  {
   "cell_type": "code",
   "execution_count": 287,
   "metadata": {
    "collapsed": false
   },
   "outputs": [
    {
     "name": "stdout",
     "output_type": "stream",
     "text": [
      "Optimization terminated successfully.\n",
      "         Current function value: 0.579072\n",
      "         Iterations 5\n"
     ]
    },
    {
     "data": {
      "text/html": [
       "<table class=\"simpletable\">\n",
       "<caption>Logit Regression Results</caption>\n",
       "<tr>\n",
       "  <th>Dep. Variable:</th>      <td>vote12</td>      <th>  No. Observations:  </th>  <td>  4983</td>  \n",
       "</tr>\n",
       "<tr>\n",
       "  <th>Model:</th>               <td>Logit</td>      <th>  Df Residuals:      </th>  <td>  4981</td>  \n",
       "</tr>\n",
       "<tr>\n",
       "  <th>Method:</th>               <td>MLE</td>       <th>  Df Model:          </th>  <td>     1</td>  \n",
       "</tr>\n",
       "<tr>\n",
       "  <th>Date:</th>          <td>Tue, 02 May 2017</td> <th>  Pseudo R-squ.:     </th>  <td>0.05903</td> \n",
       "</tr>\n",
       "<tr>\n",
       "  <th>Time:</th>              <td>02:20:03</td>     <th>  Log-Likelihood:    </th> <td> -2885.5</td> \n",
       "</tr>\n",
       "<tr>\n",
       "  <th>converged:</th>           <td>True</td>       <th>  LL-Null:           </th> <td> -3066.5</td> \n",
       "</tr>\n",
       "<tr>\n",
       "  <th> </th>                      <td> </td>        <th>  LLR p-value:       </th> <td>9.995e-81</td>\n",
       "</tr>\n",
       "</table>\n",
       "<table class=\"simpletable\">\n",
       "<tr>\n",
       "      <td></td>         <th>coef</th>     <th>std err</th>      <th>z</th>      <th>P>|z|</th>  <th>[0.025</th>    <th>0.975]</th>  \n",
       "</tr>\n",
       "<tr>\n",
       "  <th>Intercept</th> <td>   -0.9324</td> <td>    0.098</td> <td>   -9.472</td> <td> 0.000</td> <td>   -1.125</td> <td>   -0.740</td>\n",
       "</tr>\n",
       "<tr>\n",
       "  <th>age</th>       <td>    0.0364</td> <td>    0.002</td> <td>   18.068</td> <td> 0.000</td> <td>    0.032</td> <td>    0.040</td>\n",
       "</tr>\n",
       "</table>"
      ],
      "text/plain": [
       "<class 'statsmodels.iolib.summary.Summary'>\n",
       "\"\"\"\n",
       "                           Logit Regression Results                           \n",
       "==============================================================================\n",
       "Dep. Variable:                 vote12   No. Observations:                 4983\n",
       "Model:                          Logit   Df Residuals:                     4981\n",
       "Method:                           MLE   Df Model:                            1\n",
       "Date:                Tue, 02 May 2017   Pseudo R-squ.:                 0.05903\n",
       "Time:                        02:20:03   Log-Likelihood:                -2885.5\n",
       "converged:                       True   LL-Null:                       -3066.5\n",
       "                                        LLR p-value:                 9.995e-81\n",
       "==============================================================================\n",
       "                 coef    std err          z      P>|z|      [0.025      0.975]\n",
       "------------------------------------------------------------------------------\n",
       "Intercept     -0.9324      0.098     -9.472      0.000      -1.125      -0.740\n",
       "age            0.0364      0.002     18.068      0.000       0.032       0.040\n",
       "==============================================================================\n",
       "\"\"\""
      ]
     },
     "execution_count": 287,
     "metadata": {},
     "output_type": "execute_result"
    }
   ],
   "source": [
    "#Creating the model\n",
    "results = smf.logit('vote12 ~ age', data=df2012).fit()\n",
    "results.summary()"
   ]
  },
  {
   "cell_type": "markdown",
   "metadata": {},
   "source": [
    "This shows us that age is definately an excellent predictor of whether someone is likely to vote"
   ]
  },
  {
   "cell_type": "code",
   "execution_count": null,
   "metadata": {
    "collapsed": true
   },
   "outputs": [],
   "source": []
  },
  {
   "cell_type": "markdown",
   "metadata": {},
   "source": [
    "### Basic Model of voting and Religion"
   ]
  },
  {
   "cell_type": "code",
   "execution_count": 288,
   "metadata": {
    "collapsed": false
   },
   "outputs": [
    {
     "data": {
      "text/plain": [
       "1     2358\n",
       "2     1132\n",
       "3       84\n",
       "4     1047\n",
       "5       62\n",
       "6       41\n",
       "7       14\n",
       "8        5\n",
       "9       20\n",
       "10      13\n",
       "11     166\n",
       "12       4\n",
       "13      10\n",
       "98       6\n",
       "99      21\n",
       "Name: relig, dtype: int64"
      ]
     },
     "execution_count": 288,
     "metadata": {},
     "output_type": "execute_result"
    }
   ],
   "source": [
    "values(df2012, \"relig\")"
   ]
  },
  {
   "cell_type": "markdown",
   "metadata": {
    "collapsed": false
   },
   "source": [
    "The values with a signifigant amount of data are 1, 2, and 4, which are Protestant, Catholic, and None, respectively. The others are more general, or don't have quite enough data to analyze."
   ]
  },
  {
   "cell_type": "code",
   "execution_count": 289,
   "metadata": {
    "collapsed": false
   },
   "outputs": [],
   "source": [
    "df2012['isProtestant'] = (df2012.relig == 1).astype(int)\n",
    "df2012['isCatholic'] = (df2012.relig == 2).astype(int)\n",
    "df2012['isNone'] = (df2012.relig == 4).astype(int)"
   ]
  },
  {
   "cell_type": "code",
   "execution_count": 291,
   "metadata": {
    "collapsed": false
   },
   "outputs": [
    {
     "name": "stdout",
     "output_type": "stream",
     "text": [
      "Optimization terminated successfully.\n",
      "         Current function value: 0.612393\n",
      "         Iterations 5\n"
     ]
    },
    {
     "data": {
      "text/html": [
       "<table class=\"simpletable\">\n",
       "<caption>Logit Regression Results</caption>\n",
       "<tr>\n",
       "  <th>Dep. Variable:</th>      <td>vote12</td>      <th>  No. Observations:  </th>  <td>  4983</td>  \n",
       "</tr>\n",
       "<tr>\n",
       "  <th>Model:</th>               <td>Logit</td>      <th>  Df Residuals:      </th>  <td>  4979</td>  \n",
       "</tr>\n",
       "<tr>\n",
       "  <th>Method:</th>               <td>MLE</td>       <th>  Df Model:          </th>  <td>     3</td>  \n",
       "</tr>\n",
       "<tr>\n",
       "  <th>Date:</th>          <td>Tue, 02 May 2017</td> <th>  Pseudo R-squ.:     </th> <td>0.004889</td> \n",
       "</tr>\n",
       "<tr>\n",
       "  <th>Time:</th>              <td>02:23:30</td>     <th>  Log-Likelihood:    </th> <td> -3051.6</td> \n",
       "</tr>\n",
       "<tr>\n",
       "  <th>converged:</th>           <td>True</td>       <th>  LL-Null:           </th> <td> -3066.5</td> \n",
       "</tr>\n",
       "<tr>\n",
       "  <th> </th>                      <td> </td>        <th>  LLR p-value:       </th> <td>1.391e-06</td>\n",
       "</tr>\n",
       "</table>\n",
       "<table class=\"simpletable\">\n",
       "<tr>\n",
       "        <td></td>          <th>coef</th>     <th>std err</th>      <th>z</th>      <th>P>|z|</th>  <th>[0.025</th>    <th>0.975]</th>  \n",
       "</tr>\n",
       "<tr>\n",
       "  <th>Intercept</th>    <td>    0.8882</td> <td>    0.104</td> <td>    8.524</td> <td> 0.000</td> <td>    0.684</td> <td>    1.092</td>\n",
       "</tr>\n",
       "<tr>\n",
       "  <th>isProtestant</th> <td>    0.0885</td> <td>    0.114</td> <td>    0.777</td> <td> 0.437</td> <td>   -0.135</td> <td>    0.312</td>\n",
       "</tr>\n",
       "<tr>\n",
       "  <th>isCatholic</th>   <td>   -0.1497</td> <td>    0.122</td> <td>   -1.226</td> <td> 0.220</td> <td>   -0.389</td> <td>    0.090</td>\n",
       "</tr>\n",
       "<tr>\n",
       "  <th>isNone</th>       <td>   -0.3297</td> <td>    0.122</td> <td>   -2.694</td> <td> 0.007</td> <td>   -0.570</td> <td>   -0.090</td>\n",
       "</tr>\n",
       "</table>"
      ],
      "text/plain": [
       "<class 'statsmodels.iolib.summary.Summary'>\n",
       "\"\"\"\n",
       "                           Logit Regression Results                           \n",
       "==============================================================================\n",
       "Dep. Variable:                 vote12   No. Observations:                 4983\n",
       "Model:                          Logit   Df Residuals:                     4979\n",
       "Method:                           MLE   Df Model:                            3\n",
       "Date:                Tue, 02 May 2017   Pseudo R-squ.:                0.004889\n",
       "Time:                        02:23:30   Log-Likelihood:                -3051.6\n",
       "converged:                       True   LL-Null:                       -3066.5\n",
       "                                        LLR p-value:                 1.391e-06\n",
       "================================================================================\n",
       "                   coef    std err          z      P>|z|      [0.025      0.975]\n",
       "--------------------------------------------------------------------------------\n",
       "Intercept        0.8882      0.104      8.524      0.000       0.684       1.092\n",
       "isProtestant     0.0885      0.114      0.777      0.437      -0.135       0.312\n",
       "isCatholic      -0.1497      0.122     -1.226      0.220      -0.389       0.090\n",
       "isNone          -0.3297      0.122     -2.694      0.007      -0.570      -0.090\n",
       "================================================================================\n",
       "\"\"\""
      ]
     },
     "execution_count": 291,
     "metadata": {},
     "output_type": "execute_result"
    }
   ],
   "source": [
    "#Creating the model\n",
    "results = smf.logit('vote12 ~ isProtestant + isCatholic + isNone', data=df2012).fit()\n",
    "results.summary()"
   ]
  },
  {
   "cell_type": "code",
   "execution_count": null,
   "metadata": {
    "collapsed": true
   },
   "outputs": [],
   "source": []
  }
 ],
 "metadata": {
  "kernelspec": {
   "display_name": "Python 2",
   "language": "python",
   "name": "python2"
  },
  "language_info": {
   "codemirror_mode": {
    "name": "ipython",
    "version": 2
   },
   "file_extension": ".py",
   "mimetype": "text/x-python",
   "name": "python",
   "nbconvert_exporter": "python",
   "pygments_lexer": "ipython2",
   "version": "2.7.12"
  }
 },
 "nbformat": 4,
 "nbformat_minor": 2
}
