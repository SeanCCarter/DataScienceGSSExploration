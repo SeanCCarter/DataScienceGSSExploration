{
 "cells": [
  {
   "cell_type": "code",
   "execution_count": 110,
   "metadata": {
    "collapsed": false
   },
   "outputs": [],
   "source": [
    "import pandas as pd\n",
    "import numpy as np\n",
    "\n",
    "import thinkstats2\n",
    "import thinkplot\n",
    "\n",
    "import statsmodels.formula.api as smf"
   ]
  },
  {
   "cell_type": "markdown",
   "metadata": {},
   "source": [
    "# Data"
   ]
  },
  {
   "cell_type": "markdown",
   "metadata": {},
   "source": []
  },
  {
   "cell_type": "code",
   "execution_count": 111,
   "metadata": {
    "collapsed": false
   },
   "outputs": [
    {
     "name": "stdout",
     "output_type": "stream",
     "text": [
      "(62466, 22)\n"
     ]
    },
    {
     "data": {
      "text/html": [
       "<div>\n",
       "<table border=\"1\" class=\"dataframe\">\n",
       "  <thead>\n",
       "    <tr style=\"text-align: right;\">\n",
       "      <th></th>\n",
       "      <th>year</th>\n",
       "      <th>partyid</th>\n",
       "      <th>vote12</th>\n",
       "      <th>relig</th>\n",
       "      <th>happy</th>\n",
       "      <th>health</th>\n",
       "      <th>trust</th>\n",
       "      <th>relpersn</th>\n",
       "      <th>wwwhr</th>\n",
       "      <th>ballot</th>\n",
       "      <th>...</th>\n",
       "      <th>id_</th>\n",
       "      <th>wrkstat</th>\n",
       "      <th>hrs2</th>\n",
       "      <th>wrkgovt</th>\n",
       "      <th>industry</th>\n",
       "      <th>age</th>\n",
       "      <th>educ</th>\n",
       "      <th>sex</th>\n",
       "      <th>race</th>\n",
       "      <th>sei10</th>\n",
       "    </tr>\n",
       "  </thead>\n",
       "  <tbody>\n",
       "    <tr>\n",
       "      <th>0</th>\n",
       "      <td>1972</td>\n",
       "      <td>2</td>\n",
       "      <td>0</td>\n",
       "      <td>3</td>\n",
       "      <td>3</td>\n",
       "      <td>2</td>\n",
       "      <td>3</td>\n",
       "      <td>0</td>\n",
       "      <td>-1</td>\n",
       "      <td>0</td>\n",
       "      <td>...</td>\n",
       "      <td>1</td>\n",
       "      <td>1</td>\n",
       "      <td>-1</td>\n",
       "      <td>0</td>\n",
       "      <td>609</td>\n",
       "      <td>23</td>\n",
       "      <td>16</td>\n",
       "      <td>2</td>\n",
       "      <td>1</td>\n",
       "      <td>50.0</td>\n",
       "    </tr>\n",
       "    <tr>\n",
       "      <th>1</th>\n",
       "      <td>1972</td>\n",
       "      <td>1</td>\n",
       "      <td>0</td>\n",
       "      <td>2</td>\n",
       "      <td>3</td>\n",
       "      <td>3</td>\n",
       "      <td>1</td>\n",
       "      <td>0</td>\n",
       "      <td>-1</td>\n",
       "      <td>0</td>\n",
       "      <td>...</td>\n",
       "      <td>2</td>\n",
       "      <td>5</td>\n",
       "      <td>-1</td>\n",
       "      <td>0</td>\n",
       "      <td>338</td>\n",
       "      <td>70</td>\n",
       "      <td>10</td>\n",
       "      <td>1</td>\n",
       "      <td>1</td>\n",
       "      <td>46.5</td>\n",
       "    </tr>\n",
       "    <tr>\n",
       "      <th>2</th>\n",
       "      <td>1972</td>\n",
       "      <td>3</td>\n",
       "      <td>0</td>\n",
       "      <td>1</td>\n",
       "      <td>2</td>\n",
       "      <td>1</td>\n",
       "      <td>2</td>\n",
       "      <td>0</td>\n",
       "      <td>-1</td>\n",
       "      <td>0</td>\n",
       "      <td>...</td>\n",
       "      <td>3</td>\n",
       "      <td>2</td>\n",
       "      <td>-1</td>\n",
       "      <td>0</td>\n",
       "      <td>718</td>\n",
       "      <td>48</td>\n",
       "      <td>12</td>\n",
       "      <td>2</td>\n",
       "      <td>1</td>\n",
       "      <td>56.9</td>\n",
       "    </tr>\n",
       "    <tr>\n",
       "      <th>3</th>\n",
       "      <td>1972</td>\n",
       "      <td>1</td>\n",
       "      <td>0</td>\n",
       "      <td>5</td>\n",
       "      <td>3</td>\n",
       "      <td>2</td>\n",
       "      <td>2</td>\n",
       "      <td>0</td>\n",
       "      <td>-1</td>\n",
       "      <td>0</td>\n",
       "      <td>...</td>\n",
       "      <td>4</td>\n",
       "      <td>1</td>\n",
       "      <td>-1</td>\n",
       "      <td>0</td>\n",
       "      <td>319</td>\n",
       "      <td>27</td>\n",
       "      <td>17</td>\n",
       "      <td>2</td>\n",
       "      <td>1</td>\n",
       "      <td>76.3</td>\n",
       "    </tr>\n",
       "    <tr>\n",
       "      <th>4</th>\n",
       "      <td>1972</td>\n",
       "      <td>0</td>\n",
       "      <td>0</td>\n",
       "      <td>1</td>\n",
       "      <td>2</td>\n",
       "      <td>2</td>\n",
       "      <td>2</td>\n",
       "      <td>0</td>\n",
       "      <td>-1</td>\n",
       "      <td>0</td>\n",
       "      <td>...</td>\n",
       "      <td>5</td>\n",
       "      <td>7</td>\n",
       "      <td>-1</td>\n",
       "      <td>0</td>\n",
       "      <td>448</td>\n",
       "      <td>61</td>\n",
       "      <td>12</td>\n",
       "      <td>2</td>\n",
       "      <td>1</td>\n",
       "      <td>31.9</td>\n",
       "    </tr>\n",
       "  </tbody>\n",
       "</table>\n",
       "<p>5 rows × 22 columns</p>\n",
       "</div>"
      ],
      "text/plain": [
       "   year  partyid  vote12  relig  happy  health  trust  relpersn  wwwhr  \\\n",
       "0  1972        2       0      3      3       2      3         0     -1   \n",
       "1  1972        1       0      2      3       3      1         0     -1   \n",
       "2  1972        3       0      1      2       1      2         0     -1   \n",
       "3  1972        1       0      5      3       2      2         0     -1   \n",
       "4  1972        0       0      1      2       2      2         0     -1   \n",
       "\n",
       "   ballot  ...    id_  wrkstat  hrs2  wrkgovt  industry  age  educ  sex  race  \\\n",
       "0       0  ...      1        1    -1        0       609   23    16    2     1   \n",
       "1       0  ...      2        5    -1        0       338   70    10    1     1   \n",
       "2       0  ...      3        2    -1        0       718   48    12    2     1   \n",
       "3       0  ...      4        1    -1        0       319   27    17    2     1   \n",
       "4       0  ...      5        7    -1        0       448   61    12    2     1   \n",
       "\n",
       "   sei10  \n",
       "0   50.0  \n",
       "1   46.5  \n",
       "2   56.9  \n",
       "3   76.3  \n",
       "4   31.9  \n",
       "\n",
       "[5 rows x 22 columns]"
      ]
     },
     "execution_count": 111,
     "metadata": {},
     "output_type": "execute_result"
    }
   ],
   "source": [
    "dct = thinkstats2.ReadStataDct('./Who_Votes_2/GSS.dct')\n",
    "df = dct.ReadFixedWidth('./Who_Votes_2/GSS.dat')\n",
    "print(df.shape)\n",
    "df.head()"
   ]
  },
  {
   "cell_type": "markdown",
   "metadata": {},
   "source": [
    "For now, we are only interested in people who voted in 2012, the year that we will be investigating."
   ]
  },
  {
   "cell_type": "code",
   "execution_count": 112,
   "metadata": {
    "collapsed": false
   },
   "outputs": [
    {
     "data": {
      "text/plain": [
       "(4983, 22)"
      ]
     },
     "execution_count": 112,
     "metadata": {},
     "output_type": "execute_result"
    }
   ],
   "source": [
    "df2012 = df[(df.vote12==2) | (df.vote12==1)].copy()\n",
    "#Copying the slice makes it possible to add values\n",
    "df2012.shape"
   ]
  },
  {
   "cell_type": "code",
   "execution_count": 113,
   "metadata": {
    "collapsed": false,
    "scrolled": true
   },
   "outputs": [
    {
     "name": "stdout",
     "output_type": "stream",
     "text": [
      "(4983, 22)\n"
     ]
    },
    {
     "data": {
      "text/html": [
       "<div>\n",
       "<table border=\"1\" class=\"dataframe\">\n",
       "  <thead>\n",
       "    <tr style=\"text-align: right;\">\n",
       "      <th></th>\n",
       "      <th>year</th>\n",
       "      <th>partyid</th>\n",
       "      <th>vote12</th>\n",
       "      <th>relig</th>\n",
       "      <th>happy</th>\n",
       "      <th>health</th>\n",
       "      <th>trust</th>\n",
       "      <th>relpersn</th>\n",
       "      <th>wwwhr</th>\n",
       "      <th>ballot</th>\n",
       "      <th>...</th>\n",
       "      <th>id_</th>\n",
       "      <th>wrkstat</th>\n",
       "      <th>hrs2</th>\n",
       "      <th>wrkgovt</th>\n",
       "      <th>industry</th>\n",
       "      <th>age</th>\n",
       "      <th>educ</th>\n",
       "      <th>sex</th>\n",
       "      <th>race</th>\n",
       "      <th>sei10</th>\n",
       "    </tr>\n",
       "  </thead>\n",
       "  <tbody>\n",
       "    <tr>\n",
       "      <th>57061</th>\n",
       "      <td>2014</td>\n",
       "      <td>5</td>\n",
       "      <td>0</td>\n",
       "      <td>2</td>\n",
       "      <td>1</td>\n",
       "      <td>1</td>\n",
       "      <td>2</td>\n",
       "      <td>4</td>\n",
       "      <td>-1</td>\n",
       "      <td>3</td>\n",
       "      <td>...</td>\n",
       "      <td>1</td>\n",
       "      <td>1</td>\n",
       "      <td>-1</td>\n",
       "      <td>2</td>\n",
       "      <td>0</td>\n",
       "      <td>53</td>\n",
       "      <td>16</td>\n",
       "      <td>1</td>\n",
       "      <td>1</td>\n",
       "      <td>59.1</td>\n",
       "    </tr>\n",
       "    <tr>\n",
       "      <th>57062</th>\n",
       "      <td>2014</td>\n",
       "      <td>5</td>\n",
       "      <td>1</td>\n",
       "      <td>2</td>\n",
       "      <td>1</td>\n",
       "      <td>1</td>\n",
       "      <td>1</td>\n",
       "      <td>1</td>\n",
       "      <td>-1</td>\n",
       "      <td>3</td>\n",
       "      <td>...</td>\n",
       "      <td>2</td>\n",
       "      <td>1</td>\n",
       "      <td>-1</td>\n",
       "      <td>2</td>\n",
       "      <td>0</td>\n",
       "      <td>26</td>\n",
       "      <td>16</td>\n",
       "      <td>2</td>\n",
       "      <td>1</td>\n",
       "      <td>61.9</td>\n",
       "    </tr>\n",
       "    <tr>\n",
       "      <th>57063</th>\n",
       "      <td>2014</td>\n",
       "      <td>6</td>\n",
       "      <td>1</td>\n",
       "      <td>1</td>\n",
       "      <td>3</td>\n",
       "      <td>2</td>\n",
       "      <td>0</td>\n",
       "      <td>2</td>\n",
       "      <td>-1</td>\n",
       "      <td>1</td>\n",
       "      <td>...</td>\n",
       "      <td>3</td>\n",
       "      <td>4</td>\n",
       "      <td>-1</td>\n",
       "      <td>2</td>\n",
       "      <td>0</td>\n",
       "      <td>59</td>\n",
       "      <td>13</td>\n",
       "      <td>1</td>\n",
       "      <td>1</td>\n",
       "      <td>38.1</td>\n",
       "    </tr>\n",
       "    <tr>\n",
       "      <th>57064</th>\n",
       "      <td>2014</td>\n",
       "      <td>5</td>\n",
       "      <td>1</td>\n",
       "      <td>2</td>\n",
       "      <td>1</td>\n",
       "      <td>0</td>\n",
       "      <td>1</td>\n",
       "      <td>2</td>\n",
       "      <td>2</td>\n",
       "      <td>2</td>\n",
       "      <td>...</td>\n",
       "      <td>4</td>\n",
       "      <td>2</td>\n",
       "      <td>-1</td>\n",
       "      <td>2</td>\n",
       "      <td>0</td>\n",
       "      <td>56</td>\n",
       "      <td>16</td>\n",
       "      <td>2</td>\n",
       "      <td>1</td>\n",
       "      <td>73.9</td>\n",
       "    </tr>\n",
       "    <tr>\n",
       "      <th>57065</th>\n",
       "      <td>2014</td>\n",
       "      <td>3</td>\n",
       "      <td>1</td>\n",
       "      <td>2</td>\n",
       "      <td>1</td>\n",
       "      <td>1</td>\n",
       "      <td>2</td>\n",
       "      <td>2</td>\n",
       "      <td>-1</td>\n",
       "      <td>3</td>\n",
       "      <td>...</td>\n",
       "      <td>5</td>\n",
       "      <td>5</td>\n",
       "      <td>-1</td>\n",
       "      <td>1</td>\n",
       "      <td>0</td>\n",
       "      <td>74</td>\n",
       "      <td>17</td>\n",
       "      <td>2</td>\n",
       "      <td>1</td>\n",
       "      <td>76.3</td>\n",
       "    </tr>\n",
       "  </tbody>\n",
       "</table>\n",
       "<p>5 rows × 22 columns</p>\n",
       "</div>"
      ],
      "text/plain": [
       "       year  partyid  vote12  relig  happy  health  trust  relpersn  wwwhr  \\\n",
       "57061  2014        5       0      2      1       1      2         4     -1   \n",
       "57062  2014        5       1      2      1       1      1         1     -1   \n",
       "57063  2014        6       1      1      3       2      0         2     -1   \n",
       "57064  2014        5       1      2      1       0      1         2      2   \n",
       "57065  2014        3       1      2      1       1      2         2     -1   \n",
       "\n",
       "       ballot  ...    id_  wrkstat  hrs2  wrkgovt  industry  age  educ  sex  \\\n",
       "57061       3  ...      1        1    -1        2         0   53    16    1   \n",
       "57062       3  ...      2        1    -1        2         0   26    16    2   \n",
       "57063       1  ...      3        4    -1        2         0   59    13    1   \n",
       "57064       2  ...      4        2    -1        2         0   56    16    2   \n",
       "57065       3  ...      5        5    -1        1         0   74    17    2   \n",
       "\n",
       "       race  sei10  \n",
       "57061     1   59.1  \n",
       "57062     1   61.9  \n",
       "57063     1   38.1  \n",
       "57064     1   73.9  \n",
       "57065     1   76.3  \n",
       "\n",
       "[5 rows x 22 columns]"
      ]
     },
     "execution_count": 113,
     "metadata": {},
     "output_type": "execute_result"
    }
   ],
   "source": [
    "#I want vote2012 to be 0 false, 1 true: right now 2 is false. So...\n",
    "df2012.vote12 = df.vote12%2\n",
    "\n",
    "print(df2012.shape)\n",
    "df2012.head()"
   ]
  },
  {
   "cell_type": "markdown",
   "metadata": {},
   "source": [
    "The following helper functions were borrowed from [Allen Downey](https://github.com/AllenDowney/GssReligion), as part of a different exploration of the GSS dataset."
   ]
  },
  {
   "cell_type": "code",
   "execution_count": 114,
   "metadata": {
    "collapsed": true
   },
   "outputs": [],
   "source": [
    "#This function renames a convenient feature of pandas\n",
    "#It makes it easy to identify strange, outlier values\n",
    "def values(df, varname):\n",
    "    \"\"\"Values and counts in index order.\n",
    "    \n",
    "    df: DataFrame\n",
    "    varname: strign column name\n",
    "    \n",
    "    returns: Series that maps from value to frequency\n",
    "    \"\"\"\n",
    "    return df[varname].value_counts().sort_index()\n",
    "\n",
    "#This fixes the problems you can find with the previous one.\n",
    "def fill_missing(df, varname, badvals=[98, 99]):\n",
    "    \"\"\"Fill missing data with random values.\n",
    "    \n",
    "    df: DataFrame\n",
    "    varname: string column name\n",
    "    badvals: list of values to be replaced\n",
    "    \"\"\"\n",
    "    df[varname].replace(badvals, np.nan, inplace=True)\n",
    "    null = df[varname].isnull()\n",
    "    fill = np.random.choice(df[varname].dropna(), sum(null), replace=True)\n",
    "    df.loc[null, varname] = fill\n",
    "    return sum(null)"
   ]
  },
  {
   "cell_type": "markdown",
   "metadata": {
    "collapsed": true
   },
   "source": [
    "# Who votes?\n",
    "\n",
    "The first variable to investigate is age - it's a very simple predictor, but known to be excellent at predicting patterns. To quantify that, we can build a simple logistic regression formula based on age"
   ]
  },
  {
   "cell_type": "code",
   "execution_count": 115,
   "metadata": {
    "collapsed": false
   },
   "outputs": [
    {
     "data": {
      "text/plain": [
       "20     16\n",
       "21     24\n",
       "22     55\n",
       "23     69\n",
       "24     62\n",
       "25     98\n",
       "26     82\n",
       "27     92\n",
       "28     67\n",
       "29     96\n",
       "30    105\n",
       "31    100\n",
       "32     90\n",
       "33     94\n",
       "34     87\n",
       "35     92\n",
       "36     89\n",
       "37    102\n",
       "38     85\n",
       "39     89\n",
       "40     83\n",
       "41     84\n",
       "42     80\n",
       "43     93\n",
       "44     87\n",
       "45     62\n",
       "46     75\n",
       "47     90\n",
       "48     77\n",
       "49     77\n",
       "     ... \n",
       "61     93\n",
       "62     98\n",
       "63     82\n",
       "64     70\n",
       "65     80\n",
       "66     80\n",
       "67     90\n",
       "68     63\n",
       "69     65\n",
       "70     63\n",
       "71     54\n",
       "72     46\n",
       "73     44\n",
       "74     48\n",
       "75     39\n",
       "76     49\n",
       "77     36\n",
       "78     52\n",
       "79     46\n",
       "80     41\n",
       "81     33\n",
       "82     18\n",
       "83     32\n",
       "84     21\n",
       "85     17\n",
       "86     19\n",
       "87     16\n",
       "88     14\n",
       "89     39\n",
       "99     17\n",
       "Name: age, dtype: int64"
      ]
     },
     "execution_count": 115,
     "metadata": {},
     "output_type": "execute_result"
    }
   ],
   "source": [
    "values(df2012, \"age\")"
   ]
  },
  {
   "cell_type": "markdown",
   "metadata": {},
   "source": [
    "Under the assumption that there *probably* weren't 17 different 99 year olds in this one relatively small sample (5405 people), we can clean the data by replacing those with random values in the cleaning function"
   ]
  },
  {
   "cell_type": "code",
   "execution_count": 116,
   "metadata": {
    "collapsed": false
   },
   "outputs": [
    {
     "data": {
      "text/plain": [
       "17"
      ]
     },
     "execution_count": 116,
     "metadata": {},
     "output_type": "execute_result"
    }
   ],
   "source": [
    "fill_missing(df2012, 'age')"
   ]
  },
  {
   "cell_type": "code",
   "execution_count": 117,
   "metadata": {
    "collapsed": false
   },
   "outputs": [
    {
     "name": "stdout",
     "output_type": "stream",
     "text": [
      "Optimization terminated successfully.\n",
      "         Current function value: 0.578317\n",
      "         Iterations 5\n"
     ]
    },
    {
     "data": {
      "text/html": [
       "<table class=\"simpletable\">\n",
       "<caption>Logit Regression Results</caption>\n",
       "<tr>\n",
       "  <th>Dep. Variable:</th>      <td>vote12</td>      <th>  No. Observations:  </th>  <td>  4983</td>  \n",
       "</tr>\n",
       "<tr>\n",
       "  <th>Model:</th>               <td>Logit</td>      <th>  Df Residuals:      </th>  <td>  4981</td>  \n",
       "</tr>\n",
       "<tr>\n",
       "  <th>Method:</th>               <td>MLE</td>       <th>  Df Model:          </th>  <td>     1</td>  \n",
       "</tr>\n",
       "<tr>\n",
       "  <th>Date:</th>          <td>Tue, 02 May 2017</td> <th>  Pseudo R-squ.:     </th>  <td>0.06026</td> \n",
       "</tr>\n",
       "<tr>\n",
       "  <th>Time:</th>              <td>11:55:26</td>     <th>  Log-Likelihood:    </th> <td> -2881.8</td> \n",
       "</tr>\n",
       "<tr>\n",
       "  <th>converged:</th>           <td>True</td>       <th>  LL-Null:           </th> <td> -3066.5</td> \n",
       "</tr>\n",
       "<tr>\n",
       "  <th> </th>                      <td> </td>        <th>  LLR p-value:       </th> <td>2.303e-82</td>\n",
       "</tr>\n",
       "</table>\n",
       "<table class=\"simpletable\">\n",
       "<tr>\n",
       "      <td></td>         <th>coef</th>     <th>std err</th>      <th>z</th>      <th>P>|z|</th>  <th>[0.025</th>    <th>0.975]</th>  \n",
       "</tr>\n",
       "<tr>\n",
       "  <th>Intercept</th> <td>   -0.9510</td> <td>    0.099</td> <td>   -9.653</td> <td> 0.000</td> <td>   -1.144</td> <td>   -0.758</td>\n",
       "</tr>\n",
       "<tr>\n",
       "  <th>age</th>       <td>    0.0368</td> <td>    0.002</td> <td>   18.237</td> <td> 0.000</td> <td>    0.033</td> <td>    0.041</td>\n",
       "</tr>\n",
       "</table>"
      ],
      "text/plain": [
       "<class 'statsmodels.iolib.summary.Summary'>\n",
       "\"\"\"\n",
       "                           Logit Regression Results                           \n",
       "==============================================================================\n",
       "Dep. Variable:                 vote12   No. Observations:                 4983\n",
       "Model:                          Logit   Df Residuals:                     4981\n",
       "Method:                           MLE   Df Model:                            1\n",
       "Date:                Tue, 02 May 2017   Pseudo R-squ.:                 0.06026\n",
       "Time:                        11:55:26   Log-Likelihood:                -2881.8\n",
       "converged:                       True   LL-Null:                       -3066.5\n",
       "                                        LLR p-value:                 2.303e-82\n",
       "==============================================================================\n",
       "                 coef    std err          z      P>|z|      [0.025      0.975]\n",
       "------------------------------------------------------------------------------\n",
       "Intercept     -0.9510      0.099     -9.653      0.000      -1.144      -0.758\n",
       "age            0.0368      0.002     18.237      0.000       0.033       0.041\n",
       "==============================================================================\n",
       "\"\"\""
      ]
     },
     "execution_count": 117,
     "metadata": {},
     "output_type": "execute_result"
    }
   ],
   "source": [
    "#Creating the model\n",
    "results = smf.logit('vote12 ~ age', data=df2012).fit()\n",
    "results.summary()"
   ]
  },
  {
   "cell_type": "markdown",
   "metadata": {},
   "source": [
    "This shows us that age is definately an excellent predictor of whether someone is likely to vote"
   ]
  },
  {
   "cell_type": "code",
   "execution_count": null,
   "metadata": {
    "collapsed": true
   },
   "outputs": [],
   "source": []
  },
  {
   "cell_type": "markdown",
   "metadata": {},
   "source": [
    "### Basic Model of voting and Religion"
   ]
  },
  {
   "cell_type": "code",
   "execution_count": 118,
   "metadata": {
    "collapsed": false
   },
   "outputs": [
    {
     "data": {
      "text/plain": [
       "1     2358\n",
       "2     1132\n",
       "3       84\n",
       "4     1047\n",
       "5       62\n",
       "6       41\n",
       "7       14\n",
       "8        5\n",
       "9       20\n",
       "10      13\n",
       "11     166\n",
       "12       4\n",
       "13      10\n",
       "98       6\n",
       "99      21\n",
       "Name: relig, dtype: int64"
      ]
     },
     "execution_count": 118,
     "metadata": {},
     "output_type": "execute_result"
    }
   ],
   "source": [
    "values(df2012, \"relig\")"
   ]
  },
  {
   "cell_type": "markdown",
   "metadata": {
    "collapsed": false
   },
   "source": [
    "The values with a signifigant amount of data are 1, 2, and 4, which are Protestant, Catholic, and None, respectively. The others are more general, or don't have quite enough data to analyze."
   ]
  },
  {
   "cell_type": "code",
   "execution_count": 119,
   "metadata": {
    "collapsed": false
   },
   "outputs": [],
   "source": [
    "df2012['isProtestant'] = (df2012.relig == 1).astype(int)\n",
    "df2012['isCatholic'] = (df2012.relig == 2).astype(int)\n",
    "df2012['isNone'] = (df2012.relig == 4).astype(int)"
   ]
  },
  {
   "cell_type": "code",
   "execution_count": 120,
   "metadata": {
    "collapsed": false,
    "scrolled": true
   },
   "outputs": [
    {
     "name": "stdout",
     "output_type": "stream",
     "text": [
      "Optimization terminated successfully.\n",
      "         Current function value: 0.577512\n",
      "         Iterations 5\n"
     ]
    },
    {
     "data": {
      "text/html": [
       "<table class=\"simpletable\">\n",
       "<caption>Logit Regression Results</caption>\n",
       "<tr>\n",
       "  <th>Dep. Variable:</th>      <td>vote12</td>      <th>  No. Observations:  </th>  <td>  4983</td>  \n",
       "</tr>\n",
       "<tr>\n",
       "  <th>Model:</th>               <td>Logit</td>      <th>  Df Residuals:      </th>  <td>  4978</td>  \n",
       "</tr>\n",
       "<tr>\n",
       "  <th>Method:</th>               <td>MLE</td>       <th>  Df Model:          </th>  <td>     4</td>  \n",
       "</tr>\n",
       "<tr>\n",
       "  <th>Date:</th>          <td>Tue, 02 May 2017</td> <th>  Pseudo R-squ.:     </th>  <td>0.06157</td> \n",
       "</tr>\n",
       "<tr>\n",
       "  <th>Time:</th>              <td>11:55:26</td>     <th>  Log-Likelihood:    </th> <td> -2877.7</td> \n",
       "</tr>\n",
       "<tr>\n",
       "  <th>converged:</th>           <td>True</td>       <th>  LL-Null:           </th> <td> -3066.5</td> \n",
       "</tr>\n",
       "<tr>\n",
       "  <th> </th>                      <td> </td>        <th>  LLR p-value:       </th> <td>1.906e-80</td>\n",
       "</tr>\n",
       "</table>\n",
       "<table class=\"simpletable\">\n",
       "<tr>\n",
       "        <td></td>          <th>coef</th>     <th>std err</th>      <th>z</th>      <th>P>|z|</th>  <th>[0.025</th>    <th>0.975]</th>  \n",
       "</tr>\n",
       "<tr>\n",
       "  <th>Intercept</th>    <td>   -0.7766</td> <td>    0.140</td> <td>   -5.540</td> <td> 0.000</td> <td>   -1.051</td> <td>   -0.502</td>\n",
       "</tr>\n",
       "<tr>\n",
       "  <th>age</th>          <td>    0.0365</td> <td>    0.002</td> <td>   17.739</td> <td> 0.000</td> <td>    0.032</td> <td>    0.041</td>\n",
       "</tr>\n",
       "<tr>\n",
       "  <th>isProtestant</th> <td>   -0.0992</td> <td>    0.118</td> <td>   -0.838</td> <td> 0.402</td> <td>   -0.331</td> <td>    0.133</td>\n",
       "</tr>\n",
       "<tr>\n",
       "  <th>isCatholic</th>   <td>   -0.2806</td> <td>    0.127</td> <td>   -2.216</td> <td> 0.027</td> <td>   -0.529</td> <td>   -0.032</td>\n",
       "</tr>\n",
       "<tr>\n",
       "  <th>isNone</th>       <td>   -0.2226</td> <td>    0.127</td> <td>   -1.757</td> <td> 0.079</td> <td>   -0.471</td> <td>    0.026</td>\n",
       "</tr>\n",
       "</table>"
      ],
      "text/plain": [
       "<class 'statsmodels.iolib.summary.Summary'>\n",
       "\"\"\"\n",
       "                           Logit Regression Results                           \n",
       "==============================================================================\n",
       "Dep. Variable:                 vote12   No. Observations:                 4983\n",
       "Model:                          Logit   Df Residuals:                     4978\n",
       "Method:                           MLE   Df Model:                            4\n",
       "Date:                Tue, 02 May 2017   Pseudo R-squ.:                 0.06157\n",
       "Time:                        11:55:26   Log-Likelihood:                -2877.7\n",
       "converged:                       True   LL-Null:                       -3066.5\n",
       "                                        LLR p-value:                 1.906e-80\n",
       "================================================================================\n",
       "                   coef    std err          z      P>|z|      [0.025      0.975]\n",
       "--------------------------------------------------------------------------------\n",
       "Intercept       -0.7766      0.140     -5.540      0.000      -1.051      -0.502\n",
       "age              0.0365      0.002     17.739      0.000       0.032       0.041\n",
       "isProtestant    -0.0992      0.118     -0.838      0.402      -0.331       0.133\n",
       "isCatholic      -0.2806      0.127     -2.216      0.027      -0.529      -0.032\n",
       "isNone          -0.2226      0.127     -1.757      0.079      -0.471       0.026\n",
       "================================================================================\n",
       "\"\"\""
      ]
     },
     "execution_count": 120,
     "metadata": {},
     "output_type": "execute_result"
    }
   ],
   "source": [
    "#Creating the model\n",
    "results = smf.logit('vote12 ~ age + isProtestant + isCatholic + isNone', data=df2012).fit()\n",
    "results.summary()"
   ]
  },
  {
   "cell_type": "markdown",
   "metadata": {},
   "source": [
    "Religion isn't a very good predictor. Catholics are less likely to vote, but that is the only statistically signifigant one of the three checked here."
   ]
  },
  {
   "cell_type": "markdown",
   "metadata": {},
   "source": [
    "### Adding Race and Class to the model"
   ]
  },
  {
   "cell_type": "code",
   "execution_count": 121,
   "metadata": {
    "collapsed": true
   },
   "outputs": [],
   "source": [
    "df2012['isWhite'] = (df2012.race == 1).astype(int)\n",
    "df2012['isBlack'] = (df2012.race == 2).astype(int)"
   ]
  },
  {
   "cell_type": "code",
   "execution_count": 122,
   "metadata": {
    "collapsed": false
   },
   "outputs": [
    {
     "name": "stdout",
     "output_type": "stream",
     "text": [
      "Optimization terminated successfully.\n",
      "         Current function value: 0.535359\n",
      "         Iterations 6\n"
     ]
    },
    {
     "data": {
      "text/html": [
       "<table class=\"simpletable\">\n",
       "<caption>Logit Regression Results</caption>\n",
       "<tr>\n",
       "  <th>Dep. Variable:</th>      <td>vote12</td>      <th>  No. Observations:  </th>   <td>  4983</td>  \n",
       "</tr>\n",
       "<tr>\n",
       "  <th>Model:</th>               <td>Logit</td>      <th>  Df Residuals:      </th>   <td>  4975</td>  \n",
       "</tr>\n",
       "<tr>\n",
       "  <th>Method:</th>               <td>MLE</td>       <th>  Df Model:          </th>   <td>     7</td>  \n",
       "</tr>\n",
       "<tr>\n",
       "  <th>Date:</th>          <td>Tue, 02 May 2017</td> <th>  Pseudo R-squ.:     </th>   <td>0.1301</td>  \n",
       "</tr>\n",
       "<tr>\n",
       "  <th>Time:</th>              <td>11:55:26</td>     <th>  Log-Likelihood:    </th>  <td> -2667.7</td> \n",
       "</tr>\n",
       "<tr>\n",
       "  <th>converged:</th>           <td>True</td>       <th>  LL-Null:           </th>  <td> -3066.5</td> \n",
       "</tr>\n",
       "<tr>\n",
       "  <th> </th>                      <td> </td>        <th>  LLR p-value:       </th> <td>5.789e-168</td>\n",
       "</tr>\n",
       "</table>\n",
       "<table class=\"simpletable\">\n",
       "<tr>\n",
       "        <td></td>          <th>coef</th>     <th>std err</th>      <th>z</th>      <th>P>|z|</th>  <th>[0.025</th>    <th>0.975]</th>  \n",
       "</tr>\n",
       "<tr>\n",
       "  <th>Intercept</th>    <td>   -2.5537</td> <td>    0.188</td> <td>  -13.587</td> <td> 0.000</td> <td>   -2.922</td> <td>   -2.185</td>\n",
       "</tr>\n",
       "<tr>\n",
       "  <th>age</th>          <td>    0.0357</td> <td>    0.002</td> <td>   16.551</td> <td> 0.000</td> <td>    0.031</td> <td>    0.040</td>\n",
       "</tr>\n",
       "<tr>\n",
       "  <th>isCatholic</th>   <td>   -0.0680</td> <td>    0.135</td> <td>   -0.506</td> <td> 0.613</td> <td>   -0.332</td> <td>    0.196</td>\n",
       "</tr>\n",
       "<tr>\n",
       "  <th>isProtestant</th> <td>   -0.0589</td> <td>    0.126</td> <td>   -0.468</td> <td> 0.640</td> <td>   -0.305</td> <td>    0.188</td>\n",
       "</tr>\n",
       "<tr>\n",
       "  <th>isNone</th>       <td>   -0.1629</td> <td>    0.134</td> <td>   -1.213</td> <td> 0.225</td> <td>   -0.426</td> <td>    0.100</td>\n",
       "</tr>\n",
       "<tr>\n",
       "  <th>isWhite</th>      <td>    0.4439</td> <td>    0.115</td> <td>    3.876</td> <td> 0.000</td> <td>    0.219</td> <td>    0.668</td>\n",
       "</tr>\n",
       "<tr>\n",
       "  <th>isBlack</th>      <td>    1.2261</td> <td>    0.142</td> <td>    8.660</td> <td> 0.000</td> <td>    0.949</td> <td>    1.504</td>\n",
       "</tr>\n",
       "<tr>\n",
       "  <th>sei10</th>        <td>    0.0279</td> <td>    0.002</td> <td>   17.748</td> <td> 0.000</td> <td>    0.025</td> <td>    0.031</td>\n",
       "</tr>\n",
       "</table>"
      ],
      "text/plain": [
       "<class 'statsmodels.iolib.summary.Summary'>\n",
       "\"\"\"\n",
       "                           Logit Regression Results                           \n",
       "==============================================================================\n",
       "Dep. Variable:                 vote12   No. Observations:                 4983\n",
       "Model:                          Logit   Df Residuals:                     4975\n",
       "Method:                           MLE   Df Model:                            7\n",
       "Date:                Tue, 02 May 2017   Pseudo R-squ.:                  0.1301\n",
       "Time:                        11:55:26   Log-Likelihood:                -2667.7\n",
       "converged:                       True   LL-Null:                       -3066.5\n",
       "                                        LLR p-value:                5.789e-168\n",
       "================================================================================\n",
       "                   coef    std err          z      P>|z|      [0.025      0.975]\n",
       "--------------------------------------------------------------------------------\n",
       "Intercept       -2.5537      0.188    -13.587      0.000      -2.922      -2.185\n",
       "age              0.0357      0.002     16.551      0.000       0.031       0.040\n",
       "isCatholic      -0.0680      0.135     -0.506      0.613      -0.332       0.196\n",
       "isProtestant    -0.0589      0.126     -0.468      0.640      -0.305       0.188\n",
       "isNone          -0.1629      0.134     -1.213      0.225      -0.426       0.100\n",
       "isWhite          0.4439      0.115      3.876      0.000       0.219       0.668\n",
       "isBlack          1.2261      0.142      8.660      0.000       0.949       1.504\n",
       "sei10            0.0279      0.002     17.748      0.000       0.025       0.031\n",
       "================================================================================\n",
       "\"\"\""
      ]
     },
     "execution_count": 122,
     "metadata": {},
     "output_type": "execute_result"
    }
   ],
   "source": [
    "results = smf.logit('vote12 ~ age + isCatholic + isProtestant + isNone + isWhite + isBlack + sei10', data=df2012).fit()\n",
    "results.summary()"
   ]
  },
  {
   "cell_type": "markdown",
   "metadata": {
    "collapsed": true
   },
   "source": [
    "### And the other things"
   ]
  },
  {
   "cell_type": "markdown",
   "metadata": {},
   "source": [
    "Having seen the effects of age, class, and race (and how poorly religious preference performs), we can classify most of the rest of the variables."
   ]
  },
  {
   "cell_type": "code",
   "execution_count": 129,
   "metadata": {
    "collapsed": true
   },
   "outputs": [],
   "source": [
    "df2012[\"isFemale\"] = (df2012.sex == 2).astype(int)\n",
    "df2012[\"strongPartyIdentify\"] = ((df2012.partyid == 0) | (df2012.partyid == 6)).astype(int)\n",
    "df2012[\"isIndependent\"] = (df2012.partyid == 3).astype(int)\n",
    "df2012[\"isHappy\"] = ((df2012.happy == 1) | (df2012.happy == 2)).astype(int)\n",
    "df2012[\"suspicious\"] = (df2012.trust == 2).astype(int)\n",
    "df2012[\"isGovt\"] = (df2012.wrkgovt == 1).astype(int)"
   ]
  },
  {
   "cell_type": "code",
   "execution_count": 130,
   "metadata": {
    "collapsed": false
   },
   "outputs": [
    {
     "name": "stdout",
     "output_type": "stream",
     "text": [
      "Optimization terminated successfully.\n",
      "         Current function value: 0.494250\n",
      "         Iterations 6\n"
     ]
    },
    {
     "data": {
      "text/html": [
       "<table class=\"simpletable\">\n",
       "<caption>Logit Regression Results</caption>\n",
       "<tr>\n",
       "  <th>Dep. Variable:</th>      <td>vote12</td>      <th>  No. Observations:  </th>   <td>  4983</td>  \n",
       "</tr>\n",
       "<tr>\n",
       "  <th>Model:</th>               <td>Logit</td>      <th>  Df Residuals:      </th>   <td>  4972</td>  \n",
       "</tr>\n",
       "<tr>\n",
       "  <th>Method:</th>               <td>MLE</td>       <th>  Df Model:          </th>   <td>    10</td>  \n",
       "</tr>\n",
       "<tr>\n",
       "  <th>Date:</th>          <td>Tue, 02 May 2017</td> <th>  Pseudo R-squ.:     </th>   <td>0.1969</td>  \n",
       "</tr>\n",
       "<tr>\n",
       "  <th>Time:</th>              <td>11:56:42</td>     <th>  Log-Likelihood:    </th>  <td> -2462.8</td> \n",
       "</tr>\n",
       "<tr>\n",
       "  <th>converged:</th>           <td>True</td>       <th>  LL-Null:           </th>  <td> -3066.5</td> \n",
       "</tr>\n",
       "<tr>\n",
       "  <th> </th>                      <td> </td>        <th>  LLR p-value:       </th> <td>3.643e-253</td>\n",
       "</tr>\n",
       "</table>\n",
       "<table class=\"simpletable\">\n",
       "<tr>\n",
       "           <td></td>              <th>coef</th>     <th>std err</th>      <th>z</th>      <th>P>|z|</th>  <th>[0.025</th>    <th>0.975]</th>  \n",
       "</tr>\n",
       "<tr>\n",
       "  <th>Intercept</th>           <td>   -2.7947</td> <td>    0.199</td> <td>  -14.038</td> <td> 0.000</td> <td>   -3.185</td> <td>   -2.405</td>\n",
       "</tr>\n",
       "<tr>\n",
       "  <th>age</th>                 <td>    0.0318</td> <td>    0.002</td> <td>   14.252</td> <td> 0.000</td> <td>    0.027</td> <td>    0.036</td>\n",
       "</tr>\n",
       "<tr>\n",
       "  <th>isWhite</th>             <td>    0.4297</td> <td>    0.119</td> <td>    3.606</td> <td> 0.000</td> <td>    0.196</td> <td>    0.663</td>\n",
       "</tr>\n",
       "<tr>\n",
       "  <th>isBlack</th>             <td>    1.0571</td> <td>    0.146</td> <td>    7.227</td> <td> 0.000</td> <td>    0.770</td> <td>    1.344</td>\n",
       "</tr>\n",
       "<tr>\n",
       "  <th>isFemale</th>            <td>    0.2535</td> <td>    0.071</td> <td>    3.577</td> <td> 0.000</td> <td>    0.115</td> <td>    0.392</td>\n",
       "</tr>\n",
       "<tr>\n",
       "  <th>sei10</th>               <td>    0.0245</td> <td>    0.002</td> <td>   14.575</td> <td> 0.000</td> <td>    0.021</td> <td>    0.028</td>\n",
       "</tr>\n",
       "<tr>\n",
       "  <th>strongPartyIdentify</th> <td>    1.1022</td> <td>    0.101</td> <td>   10.946</td> <td> 0.000</td> <td>    0.905</td> <td>    1.300</td>\n",
       "</tr>\n",
       "<tr>\n",
       "  <th>isIndependent</th>       <td>   -0.9464</td> <td>    0.087</td> <td>  -10.821</td> <td> 0.000</td> <td>   -1.118</td> <td>   -0.775</td>\n",
       "</tr>\n",
       "<tr>\n",
       "  <th>isHappy</th>             <td>    0.5246</td> <td>    0.096</td> <td>    5.448</td> <td> 0.000</td> <td>    0.336</td> <td>    0.713</td>\n",
       "</tr>\n",
       "<tr>\n",
       "  <th>suspicious</th>          <td>   -0.2423</td> <td>    0.072</td> <td>   -3.381</td> <td> 0.001</td> <td>   -0.383</td> <td>   -0.102</td>\n",
       "</tr>\n",
       "<tr>\n",
       "  <th>isGovt</th>              <td>    0.1765</td> <td>    0.096</td> <td>    1.832</td> <td> 0.067</td> <td>   -0.012</td> <td>    0.365</td>\n",
       "</tr>\n",
       "</table>"
      ],
      "text/plain": [
       "<class 'statsmodels.iolib.summary.Summary'>\n",
       "\"\"\"\n",
       "                           Logit Regression Results                           \n",
       "==============================================================================\n",
       "Dep. Variable:                 vote12   No. Observations:                 4983\n",
       "Model:                          Logit   Df Residuals:                     4972\n",
       "Method:                           MLE   Df Model:                           10\n",
       "Date:                Tue, 02 May 2017   Pseudo R-squ.:                  0.1969\n",
       "Time:                        11:56:42   Log-Likelihood:                -2462.8\n",
       "converged:                       True   LL-Null:                       -3066.5\n",
       "                                        LLR p-value:                3.643e-253\n",
       "=======================================================================================\n",
       "                          coef    std err          z      P>|z|      [0.025      0.975]\n",
       "---------------------------------------------------------------------------------------\n",
       "Intercept              -2.7947      0.199    -14.038      0.000      -3.185      -2.405\n",
       "age                     0.0318      0.002     14.252      0.000       0.027       0.036\n",
       "isWhite                 0.4297      0.119      3.606      0.000       0.196       0.663\n",
       "isBlack                 1.0571      0.146      7.227      0.000       0.770       1.344\n",
       "isFemale                0.2535      0.071      3.577      0.000       0.115       0.392\n",
       "sei10                   0.0245      0.002     14.575      0.000       0.021       0.028\n",
       "strongPartyIdentify     1.1022      0.101     10.946      0.000       0.905       1.300\n",
       "isIndependent          -0.9464      0.087    -10.821      0.000      -1.118      -0.775\n",
       "isHappy                 0.5246      0.096      5.448      0.000       0.336       0.713\n",
       "suspicious             -0.2423      0.072     -3.381      0.001      -0.383      -0.102\n",
       "isGovt                  0.1765      0.096      1.832      0.067      -0.012       0.365\n",
       "=======================================================================================\n",
       "\"\"\""
      ]
     },
     "execution_count": 130,
     "metadata": {},
     "output_type": "execute_result"
    }
   ],
   "source": [
    "results = smf.logit('vote12 ~ age + isWhite + isBlack + isFemale + sei10 + strongPartyIdentify + isIndependent + isHappy + suspicious + isGovt', data=df2012).fit()\n",
    "results.summary()"
   ]
  },
  {
   "cell_type": "code",
   "execution_count": null,
   "metadata": {
    "collapsed": true
   },
   "outputs": [],
   "source": []
  },
  {
   "cell_type": "code",
   "execution_count": null,
   "metadata": {
    "collapsed": true
   },
   "outputs": [],
   "source": []
  }
 ],
 "metadata": {
  "kernelspec": {
   "display_name": "Python 2",
   "language": "python",
   "name": "python2"
  },
  "language_info": {
   "codemirror_mode": {
    "name": "ipython",
    "version": 2
   },
   "file_extension": ".py",
   "mimetype": "text/x-python",
   "name": "python",
   "nbconvert_exporter": "python",
   "pygments_lexer": "ipython2",
   "version": "2.7.12"
  }
 },
 "nbformat": 4,
 "nbformat_minor": 2
}
